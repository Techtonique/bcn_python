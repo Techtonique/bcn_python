{
  "nbformat": 4,
  "nbformat_minor": 0,
  "metadata": {
    "colab": {
      "provenance": []
    },
    "kernelspec": {
      "name": "python3",
      "display_name": "Python 3"
    },
    "language_info": {
      "name": "python"
    }
  },
  "cells": [
    {
      "cell_type": "markdown",
      "source": [
        "# 0 - Import packages "
      ],
      "metadata": {
        "id": "vGkgeBuksP9Y"
      }
    },
    {
      "cell_type": "markdown",
      "source": [
        "Before April 18, 2023"
      ],
      "metadata": {
        "id": "IDVPtjkiEKBq"
      }
    },
    {
      "cell_type": "code",
      "execution_count": null,
      "metadata": {
        "id": "8d2ySssXr4vj"
      },
      "outputs": [],
      "source": [
        "!pip install -U git+https://github.com/Techtonique/bcn_python.git@numpy-conversion"
      ]
    },
    {
      "cell_type": "markdown",
      "source": [
        "After April 18, 2023"
      ],
      "metadata": {
        "id": "MkfB5EuaENGh"
      }
    },
    {
      "cell_type": "code",
      "source": [
        "#!pip install BCN"
      ],
      "metadata": {
        "id": "KcS4846QEQgF"
      },
      "execution_count": 22,
      "outputs": []
    },
    {
      "cell_type": "code",
      "source": [
        "import BCN as bcn # takes a long time to run, ONLY the first it's run\n",
        "import numpy as np\n",
        "from sklearn.preprocessing import StandardScaler\n",
        "from sklearn.datasets import load_breast_cancer, load_wine, load_iris, load_digits\n",
        "from sklearn.model_selection import train_test_split\n",
        "from sklearn import metrics\n",
        "from time import time\n",
        "from tqdm import tqdm"
      ],
      "metadata": {
        "id": "HWU6HF2vtWUZ"
      },
      "execution_count": 23,
      "outputs": []
    },
    {
      "cell_type": "code",
      "source": [],
      "metadata": {
        "id": "g2aO1F657DPT"
      },
      "execution_count": 23,
      "outputs": []
    },
    {
      "cell_type": "markdown",
      "source": [
        "# 1 - Classification examples "
      ],
      "metadata": {
        "id": "bQJiozIntix3"
      }
    },
    {
      "cell_type": "markdown",
      "source": [
        "# 1 - 1 Wine dataset"
      ],
      "metadata": {
        "id": "tNSVPa8gt97s"
      }
    },
    {
      "cell_type": "code",
      "source": [
        "dataset = load_wine()\n",
        "X = dataset.data\n",
        "y = dataset.target\n",
        "\n",
        "# split data into training test and test set\n",
        "X_train, X_test, y_train, y_test = train_test_split(X, y, \n",
        "                                                    test_size=0.2, random_state=13)"
      ],
      "metadata": {
        "id": "fuKtRHQitnwK"
      },
      "execution_count": 24,
      "outputs": []
    },
    {
      "cell_type": "code",
      "source": [
        "start = time()\n",
        "\n",
        "regr = bcn.BCNClassifier(**{'B': 997, 'nu': 0.41495419042481907,\n",
        "                            'col_sample': 0.8689119373551017,\n",
        "                            'lam': 5576.803238697929,\n",
        "                            'r': 0.8758007308806657,\n",
        "                            'tol': 1.789513049473953e-08})\n",
        "\n",
        "regr.fit(X_train, y_train)\n",
        "\n",
        "print(f\"\\nElapsed {time() - start}\") \n",
        "\n",
        "preds = regr.predict(X_test)\n",
        "\n",
        "# Test set accuracy\n",
        "print(np.mean(y_test == preds))"
      ],
      "metadata": {
        "colab": {
          "base_uri": "https://localhost:8080/"
        },
        "id": "rq9HNEf3t4BC",
        "outputId": "284b8fa4-3275-40be-f582-39c784737da3"
      },
      "execution_count": 25,
      "outputs": [
        {
          "output_type": "stream",
          "name": "stdout",
          "text": [
            "  |======================================================================| 100%\n",
            "\n",
            "Elapsed 2.3856523036956787\n",
            "1.0\n"
          ]
        }
      ]
    },
    {
      "cell_type": "code",
      "source": [
        "print(metrics.classification_report(y_test, preds))"
      ],
      "metadata": {
        "colab": {
          "base_uri": "https://localhost:8080/"
        },
        "id": "IO8EFqzfwU5Y",
        "outputId": "2e038b3d-ff35-45bb-c056-a5fe8aff7d8a"
      },
      "execution_count": 26,
      "outputs": [
        {
          "output_type": "stream",
          "name": "stdout",
          "text": [
            "              precision    recall  f1-score   support\n",
            "\n",
            "           0       1.00      1.00      1.00        12\n",
            "           1       1.00      1.00      1.00        15\n",
            "           2       1.00      1.00      1.00         9\n",
            "\n",
            "    accuracy                           1.00        36\n",
            "   macro avg       1.00      1.00      1.00        36\n",
            "weighted avg       1.00      1.00      1.00        36\n",
            "\n"
          ]
        }
      ]
    },
    {
      "cell_type": "markdown",
      "source": [
        "# 1 - 2 Breast cancer dataset"
      ],
      "metadata": {
        "id": "wDZGuh5GuCU7"
      }
    },
    {
      "cell_type": "code",
      "source": [
        "dataset = load_breast_cancer()\n",
        "X = dataset.data\n",
        "y = dataset.target\n",
        "\n",
        "# split data into training test and test set\n",
        "X_train, X_test, y_train, y_test = train_test_split(X, y, \n",
        "                                                    test_size=0.2, random_state=13)\n"
      ],
      "metadata": {
        "id": "5eLlDIdSuSK8"
      },
      "execution_count": 27,
      "outputs": []
    },
    {
      "cell_type": "code",
      "source": [
        "start = time()\n",
        "\n",
        "regr = bcn.BCNClassifier(**{'B': 224, 'nu': 0.6287649668521799, \n",
        "                            'col_sample': 0.8472037961052999, \n",
        "                            'lam': 0.6900227993008684, \n",
        "                            'r': 0.942265267528241, \n",
        "                            'tol': 0.0023086390802266204})\n",
        "\n",
        "regr.fit(X_train, y_train)\n",
        "\n",
        "print(f\"\\nElapsed {time() - start}\") \n",
        "\n",
        "preds = regr.predict(X_test)\n",
        "\n",
        "# Test set accuracy\n",
        "print(np.mean(y_test == preds))"
      ],
      "metadata": {
        "colab": {
          "base_uri": "https://localhost:8080/"
        },
        "id": "lyySABDSu5aK",
        "outputId": "328daf60-a060-4793-82f3-476a8bcb3338"
      },
      "execution_count": 28,
      "outputs": [
        {
          "output_type": "stream",
          "name": "stdout",
          "text": [
            "  |======================================================================| 100%\n",
            "\n",
            "Elapsed 1.3012926578521729\n",
            "0.9912280701754386\n"
          ]
        }
      ]
    },
    {
      "cell_type": "code",
      "source": [
        "print(metrics.classification_report(y_test, preds))"
      ],
      "metadata": {
        "colab": {
          "base_uri": "https://localhost:8080/"
        },
        "id": "JBuVYfGawcKT",
        "outputId": "404463a4-6355-4792-f7a9-b3abe5ce701b"
      },
      "execution_count": 29,
      "outputs": [
        {
          "output_type": "stream",
          "name": "stdout",
          "text": [
            "              precision    recall  f1-score   support\n",
            "\n",
            "           0       1.00      0.97      0.99        36\n",
            "           1       0.99      1.00      0.99        78\n",
            "\n",
            "    accuracy                           0.99       114\n",
            "   macro avg       0.99      0.99      0.99       114\n",
            "weighted avg       0.99      0.99      0.99       114\n",
            "\n"
          ]
        }
      ]
    },
    {
      "cell_type": "markdown",
      "source": [
        "# 1 - 3 iris dataset"
      ],
      "metadata": {
        "id": "FdaHyC8SuTNJ"
      }
    },
    {
      "cell_type": "code",
      "source": [
        "dataset = load_iris()\n",
        "X = dataset.data\n",
        "y = dataset.target\n",
        "\n",
        "# split data into training test and test set\n",
        "X_train, X_test, y_train, y_test = train_test_split(X, y, \n",
        "                                                    test_size=0.2, random_state=13)"
      ],
      "metadata": {
        "id": "6qS7vSQluSeM"
      },
      "execution_count": 30,
      "outputs": []
    },
    {
      "cell_type": "code",
      "source": [
        "start = time()\n",
        "\n",
        "regr = bcn.BCNClassifier(**{'B': 246, 'nu': 1.531297749915455, \n",
        "                            'col_sample': 0.9111422409364928, \n",
        "                            'lam': 3.367488375051336, \n",
        "                            'r': 0.8254366770501732, \n",
        "                            'tol': 2.2080314922763116e-06})\n",
        "\n",
        "regr.fit(X_train, y_train)\n",
        "\n",
        "print(f\"\\nElapsed {time() - start}\") \n",
        "\n",
        "preds = regr.predict(X_test)\n",
        "\n",
        "# Test set accuracy\n",
        "print(np.mean(y_test == preds))"
      ],
      "metadata": {
        "colab": {
          "base_uri": "https://localhost:8080/"
        },
        "id": "l_nBsa2Zur_8",
        "outputId": "e27e31fa-4530-4b45-bfb2-2e50ef37b48b"
      },
      "execution_count": 31,
      "outputs": [
        {
          "output_type": "stream",
          "name": "stdout",
          "text": [
            "  |======================================================================| 100%\n",
            "\n",
            "Elapsed 0.7929584980010986\n",
            "1.0\n"
          ]
        }
      ]
    },
    {
      "cell_type": "code",
      "source": [
        "print(metrics.classification_report(y_test, preds))"
      ],
      "metadata": {
        "colab": {
          "base_uri": "https://localhost:8080/"
        },
        "id": "6y6guiUTwdfL",
        "outputId": "8bc93832-f39b-4d4c-d4bd-c9548c8c71d6"
      },
      "execution_count": 32,
      "outputs": [
        {
          "output_type": "stream",
          "name": "stdout",
          "text": [
            "              precision    recall  f1-score   support\n",
            "\n",
            "           0       1.00      1.00      1.00         9\n",
            "           1       1.00      1.00      1.00         8\n",
            "           2       1.00      1.00      1.00        13\n",
            "\n",
            "    accuracy                           1.00        30\n",
            "   macro avg       1.00      1.00      1.00        30\n",
            "weighted avg       1.00      1.00      1.00        30\n",
            "\n"
          ]
        }
      ]
    }
  ]
}